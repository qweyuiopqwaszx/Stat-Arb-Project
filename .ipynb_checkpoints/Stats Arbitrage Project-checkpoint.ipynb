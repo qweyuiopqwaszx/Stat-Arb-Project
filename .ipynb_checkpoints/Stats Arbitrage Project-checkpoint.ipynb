{
 "cells": [
  {
   "cell_type": "code",
   "execution_count": 2,
   "id": "8a0075ad-490f-446d-aa9f-2a2ba116c9c1",
   "metadata": {},
   "outputs": [],
   "source": [
    "import numpy as np\n",
    "import yfinance as yf\n",
    "import pandas as pd\n",
    "import matplotlib.pyplot as plt\n",
    "import pickle\n",
    "from Strategy_test import strategy_metrics\n",
    "import cvxpy as cvx\n",
    "from sklearn.covariance import LedoitWolf\n"
   ]
  },
  {
   "cell_type": "code",
   "execution_count": 3,
   "id": "c63ff915-773f-4875-bc0b-1331e4b1db12",
   "metadata": {},
   "outputs": [
    {
     "name": "stderr",
     "output_type": "stream",
     "text": [
      "[*********************100%***********************]  1 of 1 completed\n"
     ]
    }
   ],
   "source": [
    "Daily_bar = pd.read_pickle(\"price_1d_20210101_20250817.pk\")\n",
    "strategy = strategy_metrics(Daily_bar)\n",
    "sharpe_ratio = strategy.sharpe_ratio\n",
    "\n",
    "ret = strategy.calculate_returns()\n",
    "port_ret = strategy.portfolio"
   ]
  },
  {
   "cell_type": "markdown",
   "id": "8bdff8df-8db9-43ce-8141-0ac536939ad9",
   "metadata": {},
   "source": [
    "# Individual Strategy"
   ]
  },
  {
   "cell_type": "markdown",
   "id": "ac73964c-7fe7-4b34-b050-0cb9c7e9e9fb",
   "metadata": {},
   "source": [
    "### 1. trade the high volume stocks"
   ]
  },
  {
   "cell_type": "code",
   "execution_count": 4,
   "id": "127086e2-ebb9-44f9-84e9-ba2c5c354262",
   "metadata": {},
   "outputs": [
    {
     "data": {
      "text/plain": [
       "avg                    0.168739\n",
       "vol                    0.176449\n",
       "sharpe                 0.956302\n",
       "hit_rate               0.535345\n",
       "turnover               0.119907\n",
       "holding_period        16.679529\n",
       "max_drawdown          -0.196473\n",
       "max_duration         304.000000\n",
       "information_ratio      0.444057\n",
       "dtype: float64"
      ]
     },
     "execution_count": 4,
     "metadata": {},
     "output_type": "execute_result"
    }
   ],
   "source": [
    "\"\"\" 1. Volume Strategy 1 | SR 0.956\"\"\"\n",
    "# simple signal based on volume rank 0.95 sr\n",
    "# sr 0.956\n",
    "volume_signal = Daily_bar['Volume'].rank(axis=1, pct=True)\n",
    "volume_weights = strategy.portfolio_weights(volume_signal)\n",
    "v_port_ret = port_ret(volume_signal, ret)\n",
    "strategy.summary_stats(volume_weights)"
   ]
  },
  {
   "cell_type": "markdown",
   "id": "72b82592-1494-413f-9a27-0fadf16554cc",
   "metadata": {},
   "source": [
    "### 2. Long stocks that's above average by 20% marketcap traded "
   ]
  },
  {
   "cell_type": "code",
   "execution_count": 5,
   "id": "d3bf2541-dcb9-4ac9-839b-377b78e6dabd",
   "metadata": {},
   "outputs": [
    {
     "data": {
      "text/plain": [
       "avg                    0.214882\n",
       "vol                    0.177164\n",
       "sharpe                 1.212899\n",
       "hit_rate               0.541379\n",
       "turnover               1.279347\n",
       "holding_period         1.563297\n",
       "max_drawdown          -0.224804\n",
       "max_duration         221.000000\n",
       "information_ratio      1.041122\n",
       "dtype: float64"
      ]
     },
     "execution_count": 5,
     "metadata": {},
     "output_type": "execute_result"
    }
   ],
   "source": [
    "\"\"\"2. Volume Strategy 2 | SR 1.21\"\"\"\n",
    "# import market cap data\n",
    "# info = {}\n",
    "# for i in range(len(ret.columns)):\n",
    "#     temp = yf.Ticker(ret.columns[i]).info\n",
    "#     info[ret.columns[i]] = temp\n",
    "# with open(\"sp500_generalinfo_all.pk\", \"wb\") as file:\n",
    "#     pickle.dump(info, file)\n",
    "with open('sp500_generalinfo_all.pk', 'rb') as file:\n",
    "    info = pickle.load(file)\n",
    "market_cap = pd.Series({k: v['marketCap'] for k, v in info.items()})\n",
    "pct_mcap_traded = (Daily_bar['Volume'] * Daily_bar['Adj Close']/market_cap)\n",
    "\n",
    "# signal of volume greater than 20% of 20 days moving average volume\n",
    "high_volume_signal_02 = (pct_mcap_traded > pct_mcap_traded.rolling(window=20).mean() * (1+0.2)).astype(int)\n",
    "high_volume_weights_02 = high_volume_signal_02.div(high_volume_signal_02.abs().sum(axis=1), axis=0)\n",
    "high_volume_ret_02 = (high_volume_weights_02.shift() * ret).sum(axis=1)\n",
    "strategy.summary_stats(high_volume_weights_02)"
   ]
  },
  {
   "cell_type": "markdown",
   "id": "b752fa3d-29f0-4df7-b01e-1182bc21677d",
   "metadata": {},
   "source": [
    "### 3. trade on 5 days over 20 days z-score"
   ]
  },
  {
   "cell_type": "code",
   "execution_count": 6,
   "id": "492b03d5-b1dd-454e-b23d-60232952e922",
   "metadata": {},
   "outputs": [
    {
     "data": {
      "text/plain": [
       "avg                    0.123994\n",
       "vol                    0.168010\n",
       "sharpe                 0.738015\n",
       "hit_rate               0.523276\n",
       "turnover               0.277977\n",
       "holding_period         7.194831\n",
       "max_drawdown          -0.190737\n",
       "max_duration         419.000000\n",
       "information_ratio      0.014980\n",
       "dtype: float64"
      ]
     },
     "execution_count": 6,
     "metadata": {},
     "output_type": "execute_result"
    }
   ],
   "source": [
    "\"\"\"3. Zscore Strategy | SR 0.738 \"\"\"\n",
    "# create a ranked signal based on zscore of 5 day returns\n",
    "z_score_5d_signal = (ret.rolling(window=5).mean() - ret.rolling(window=5).mean().rolling(window=20).mean()) / ret.rolling(window=5).std().rolling(window=20).std()\n",
    "z_score_5d_signal = z_score_5d_signal.rank(axis=1, pct=True)\n",
    "z_score_5d_weights = z_score_5d_signal.div(z_score_5d_signal.abs().sum(axis=1), axis=0)\n",
    "z_score_5d_port_ret = port_ret(z_score_5d_signal, ret)\n",
    "strategy.summary_stats(z_score_5d_weights)"
   ]
  },
  {
   "cell_type": "markdown",
   "id": "7833f787-cc95-4c6d-a01c-2dd2b7643b40",
   "metadata": {},
   "source": [
    "### 4. Exponential mean reversion long short strategy \n",
    "**long when 2 percent above 20 day ema and sell short when 5 percent above;** \n",
    "**short when below -0.03 and bought back when below -0.04**"
   ]
  },
  {
   "cell_type": "code",
   "execution_count": 7,
   "id": "8df5ec27-751a-46ea-8148-45cac9ad6491",
   "metadata": {},
   "outputs": [
    {
     "data": {
      "text/plain": [
       "avg                   0.124801\n",
       "vol                   0.100466\n",
       "sharpe                1.242213\n",
       "hit_rate              0.539655\n",
       "turnover              0.798202\n",
       "holding_period        2.505632\n",
       "max_drawdown         -0.082471\n",
       "max_duration         66.000000\n",
       "information_ratio     0.955728\n",
       "dtype: float64"
      ]
     },
     "execution_count": 7,
     "metadata": {},
     "output_type": "execute_result"
    }
   ],
   "source": [
    "\"\"\" 4. EMA 20 strategy | 1.24 SR\"\"\"\n",
    "# create a signal entry when diff_ema_20_norm is above 0.02 and short when above 0.05\n",
    "# sr 0.970\n",
    "diff_ema_20_norm = Daily_bar['Adj Close'].ewm(span = 20, adjust=False).mean()\n",
    "diff_ema_20_norm = (Daily_bar['Adj Close'] - diff_ema_20_norm) /diff_ema_20_norm\n",
    "\n",
    "\n",
    "# grid searched for both above and below ema\n",
    "# entry when 2 percent above 20 day ema and sell short when 5 percent above\n",
    "ema_port_long_signal = (diff_ema_20_norm > 0.02).astype(int) - 2*(diff_ema_20_norm > 0.05).astype(int)\n",
    "# short when below -0.03 and long when below -0.04\n",
    "ema_port_short_signal = -(diff_ema_20_norm < -0.03).astype(int) + 2*(diff_ema_20_norm < -0.04).astype(int)\n",
    "\n",
    "ema_combined_signal = ema_port_long_signal + ema_port_short_signal\n",
    "ema_combined_weights = strategy.portfolio_weights(ema_combined_signal)\n",
    "ema_combined_port_ret = port_ret(ema_combined_signal, ret)\n",
    "strategy.summary_stats(ema_combined_weights)\n"
   ]
  },
  {
   "cell_type": "markdown",
   "id": "68d6c2b7-c167-47b2-97f6-349705c2b69a",
   "metadata": {},
   "source": [
    "### 5. Strategy that's based on previous day's daytime return and overnight return\n",
    "**if overnights greater than 0, daytime below then long, else short**"
   ]
  },
  {
   "cell_type": "code",
   "execution_count": 8,
   "id": "4986d7b9-77ef-4f11-a31a-6c3622062acf",
   "metadata": {},
   "outputs": [
    {
     "data": {
      "text/plain": [
       "avg                    0.100352\n",
       "vol                    0.126207\n",
       "sharpe                 0.795139\n",
       "hit_rate               0.510345\n",
       "turnover               1.572333\n",
       "holding_period         1.271996\n",
       "max_drawdown          -0.215748\n",
       "max_duration         610.000000\n",
       "information_ratio      0.727480\n",
       "dtype: float64"
      ]
     },
     "execution_count": 8,
     "metadata": {},
     "output_type": "execute_result"
    }
   ],
   "source": [
    "\"\"\" 5. Overnight return lead Daytime strategy | 0.795 SR\"\"\"\n",
    "# Daytime and overnight return different sign long short strategy\n",
    "# sr 0.795\n",
    "Daily_bar_adjusted_open = Daily_bar['Open'] * (Daily_bar['Adj Close']/Daily_bar['Close'])\n",
    "ret_daytime = Daily_bar['Adj Close'] / Daily_bar_adjusted_open - 1\n",
    "ret_overnight = (1 + ret)/ (1 + ret_daytime) - 1\n",
    "# signal overnight leads daytime\n",
    "dt_on_signal = ((ret_overnight > 0) & (ret_daytime < 0)).astype(int) - ((ret_overnight < 0) & (ret_daytime > 0)).astype(int)\n",
    "dt_on_port_ret = strategy.portfolio(dt_on_signal, ret)\n",
    "dt_on_port_weights = strategy.portfolio_weights(dt_on_signal)\n",
    "strategy.summary_stats(dt_on_port_weights)"
   ]
  },
  {
   "cell_type": "markdown",
   "id": "39880dfc-7e59-48b5-8a2b-c50f82af8a73",
   "metadata": {},
   "source": [
    "### 6. simple 5 days reversal strategy"
   ]
  },
  {
   "cell_type": "code",
   "execution_count": 9,
   "id": "960302e2-025c-4cd3-8a61-02dff0aeb170",
   "metadata": {},
   "outputs": [
    {
     "data": {
      "text/plain": [
       "avg                    0.152657\n",
       "vol                    0.182390\n",
       "sharpe                 0.836982\n",
       "hit_rate               0.528448\n",
       "turnover               0.280496\n",
       "holding_period         7.130218\n",
       "max_drawdown          -0.207200\n",
       "max_duration         362.000000\n",
       "information_ratio      0.193800\n",
       "dtype: float64"
      ]
     },
     "execution_count": 9,
     "metadata": {},
     "output_type": "execute_result"
    }
   ],
   "source": [
    "\"\"\" 6. 5 days reversal strategy | 0.837 SR\"\"\"\n",
    "# simple 5 days reversal strategy with rank\n",
    "# 0.83 sr\n",
    "reversal_5d_signal = (-1 * ret.rolling(5).sum()).rank(1)\n",
    "reversal_5d_weights = strategy.portfolio_weights(reversal_5d_signal)\n",
    "signal_5d_reversal_ret = (reversal_5d_weights.shift() * ret).sum(axis=1)\n",
    "strategy.summary_stats(reversal_5d_weights)"
   ]
  },
  {
   "cell_type": "markdown",
   "id": "33eec9a5-993b-4de1-9a44-4586659c04a4",
   "metadata": {},
   "source": [
    "# Combines the strategy with simple optimal weights"
   ]
  },
  {
   "cell_type": "code",
   "execution_count": 14,
   "id": "a3ea5f6b-2630-44ec-9ebb-81b7171634af",
   "metadata": {},
   "outputs": [
    {
     "data": {
      "text/html": [
       "<div>\n",
       "<style scoped>\n",
       "    .dataframe tbody tr th:only-of-type {\n",
       "        vertical-align: middle;\n",
       "    }\n",
       "\n",
       "    .dataframe tbody tr th {\n",
       "        vertical-align: top;\n",
       "    }\n",
       "\n",
       "    .dataframe thead th {\n",
       "        text-align: right;\n",
       "    }\n",
       "</style>\n",
       "<table border=\"1\" class=\"dataframe\">\n",
       "  <thead>\n",
       "    <tr style=\"text-align: right;\">\n",
       "      <th></th>\n",
       "      <th>ema_combined_port_ret</th>\n",
       "      <th>v_port_ret</th>\n",
       "      <th>z_score_5d_port_ret</th>\n",
       "      <th>dt_on_port_ret</th>\n",
       "      <th>reversal_5d_port_ret</th>\n",
       "      <th>high_volume_port_ret_02</th>\n",
       "    </tr>\n",
       "  </thead>\n",
       "  <tbody>\n",
       "    <tr>\n",
       "      <th>ema_combined_port_ret</th>\n",
       "      <td>1.000000</td>\n",
       "      <td>0.847763</td>\n",
       "      <td>0.815774</td>\n",
       "      <td>0.138159</td>\n",
       "      <td>0.878677</td>\n",
       "      <td>0.790532</td>\n",
       "    </tr>\n",
       "    <tr>\n",
       "      <th>v_port_ret</th>\n",
       "      <td>0.847763</td>\n",
       "      <td>1.000000</td>\n",
       "      <td>0.970910</td>\n",
       "      <td>0.066615</td>\n",
       "      <td>0.977229</td>\n",
       "      <td>0.937988</td>\n",
       "    </tr>\n",
       "    <tr>\n",
       "      <th>z_score_5d_port_ret</th>\n",
       "      <td>0.815774</td>\n",
       "      <td>0.970910</td>\n",
       "      <td>1.000000</td>\n",
       "      <td>0.061303</td>\n",
       "      <td>0.938062</td>\n",
       "      <td>0.935528</td>\n",
       "    </tr>\n",
       "    <tr>\n",
       "      <th>dt_on_port_ret</th>\n",
       "      <td>0.138159</td>\n",
       "      <td>0.066615</td>\n",
       "      <td>0.061303</td>\n",
       "      <td>1.000000</td>\n",
       "      <td>0.085884</td>\n",
       "      <td>0.060317</td>\n",
       "    </tr>\n",
       "    <tr>\n",
       "      <th>reversal_5d_port_ret</th>\n",
       "      <td>0.878677</td>\n",
       "      <td>0.977229</td>\n",
       "      <td>0.938062</td>\n",
       "      <td>0.085884</td>\n",
       "      <td>1.000000</td>\n",
       "      <td>0.917659</td>\n",
       "    </tr>\n",
       "    <tr>\n",
       "      <th>high_volume_port_ret_02</th>\n",
       "      <td>0.790532</td>\n",
       "      <td>0.937988</td>\n",
       "      <td>0.935528</td>\n",
       "      <td>0.060317</td>\n",
       "      <td>0.917659</td>\n",
       "      <td>1.000000</td>\n",
       "    </tr>\n",
       "  </tbody>\n",
       "</table>\n",
       "</div>"
      ],
      "text/plain": [
       "                         ema_combined_port_ret  v_port_ret  \\\n",
       "ema_combined_port_ret                 1.000000    0.847763   \n",
       "v_port_ret                            0.847763    1.000000   \n",
       "z_score_5d_port_ret                   0.815774    0.970910   \n",
       "dt_on_port_ret                        0.138159    0.066615   \n",
       "reversal_5d_port_ret                  0.878677    0.977229   \n",
       "high_volume_port_ret_02               0.790532    0.937988   \n",
       "\n",
       "                         z_score_5d_port_ret  dt_on_port_ret  \\\n",
       "ema_combined_port_ret               0.815774        0.138159   \n",
       "v_port_ret                          0.970910        0.066615   \n",
       "z_score_5d_port_ret                 1.000000        0.061303   \n",
       "dt_on_port_ret                      0.061303        1.000000   \n",
       "reversal_5d_port_ret                0.938062        0.085884   \n",
       "high_volume_port_ret_02             0.935528        0.060317   \n",
       "\n",
       "                         reversal_5d_port_ret  high_volume_port_ret_02  \n",
       "ema_combined_port_ret                0.878677                 0.790532  \n",
       "v_port_ret                           0.977229                 0.937988  \n",
       "z_score_5d_port_ret                  0.938062                 0.935528  \n",
       "dt_on_port_ret                       0.085884                 0.060317  \n",
       "reversal_5d_port_ret                 1.000000                 0.917659  \n",
       "high_volume_port_ret_02              0.917659                 1.000000  "
      ]
     },
     "execution_count": 14,
     "metadata": {},
     "output_type": "execute_result"
    }
   ],
   "source": [
    "signals = [ema_combined_signal, volume_signal, z_score_5d_signal, dt_on_signal, reversal_5d_signal, high_volume_signal_02]\n",
    "for signal in signals:\n",
    "    signal.fillna(0, inplace=True)\n",
    "\n",
    "weight = strategy.portfolio_weights\n",
    "for signal in signals:\n",
    "    signal_weights = weight(signal)\n",
    "\n",
    "def portfolio_comb_returns(signals):\n",
    "    portfolio_comb_ret = []\n",
    "    for signal in signals:\n",
    "        signal_weights = strategy.portfolio_weights(signal)\n",
    "        signal_ret = (signal_weights.shift() * ret).sum(axis=1)\n",
    "        portfolio_comb_ret.append(signal_ret)\n",
    "    portfolio_comb_ret = pd.concat(portfolio_comb_ret, axis=1)\n",
    "    return portfolio_comb_ret\n",
    "Portfolio_comb = portfolio_comb_returns(signals)\n",
    "Portfolio_comb.columns = ['ema_combined_port_ret', 'v_port_ret', 'z_score_5d_port_ret', 'dt_on_port_ret', 'reversal_5d_port_ret', 'high_volume_port_ret_02']\n",
    "Portfolio_comb.corr()"
   ]
  },
  {
   "cell_type": "code",
   "execution_count": 21,
   "id": "8159011e-1b34-478d-9edf-926618969475",
   "metadata": {},
   "outputs": [
    {
     "name": "stdout",
     "output_type": "stream",
     "text": [
      "Portfolio Index(['ema_combined_port_ret', 'v_port_ret', 'z_score_5d_port_ret',\n",
      "       'dt_on_port_ret', 'reversal_5d_port_ret', 'high_volume_port_ret_02'],\n",
      "      dtype='object')\n",
      "with weights assigned to each strategy[ 0.14630072  0.25216013 -0.21299604  0.03144117 -0.22091734  0.1361846 ]\n"
     ]
    }
   ],
   "source": [
    "def signal_weights(signals):\n",
    "    \"\"\"\n",
    "    Calculate the weights based on the signal.\n",
    "    \"\"\"\n",
    "    def optimal_weights(sigma, mu):\n",
    "        wgt = np.linalg.inv(sigma) @ mu\n",
    "        wgt = wgt/np.abs(wgt).sum()\n",
    "        return wgt\n",
    "    rets = portfolio_comb_returns(signals)\n",
    "    sigma = rets.cov()\n",
    "    mu = rets.mean()\n",
    "    wgts = optimal_weights(sigma, mu)\n",
    "    print(f\"Portfolio {Portfolio_comb.columns}\")\n",
    "    print(f\"with weights assigned to each strategy{wgts}\")\n",
    "    signal_weights_list = []\n",
    "    for signal, wgt in zip(signals, wgts):\n",
    "        signal_weight = strategy.portfolio_weights(signal) * wgt\n",
    "        signal_weight = signal_weight.fillna(0)\n",
    "        signal_weights_list.append(signal_weight)\n",
    "\n",
    "    return sum(signal_weights_list)\n",
    "port_weights = signal_weights(signals)"
   ]
  },
  {
   "cell_type": "markdown",
   "id": "8e85a199-7bd7-474a-9f1c-83533603ff17",
   "metadata": {},
   "source": [
    "### Gross Summary stats"
   ]
  },
  {
   "cell_type": "code",
   "execution_count": 22,
   "id": "7830ebc1-0f57-4295-8c78-9c69056063bd",
   "metadata": {},
   "outputs": [
    {
     "data": {
      "text/plain": [
       "avg                    0.033092\n",
       "vol                    0.014080\n",
       "sharpe                 2.350213\n",
       "hit_rate               0.572414\n",
       "turnover               0.297374\n",
       "holding_period         6.725542\n",
       "max_drawdown          -0.011081\n",
       "max_duration         141.000000\n",
       "information_ratio      2.190458\n",
       "dtype: float64"
      ]
     },
     "execution_count": 22,
     "metadata": {},
     "output_type": "execute_result"
    }
   ],
   "source": [
    "strategy.summary_stats(port_weights)"
   ]
  },
  {
   "cell_type": "markdown",
   "id": "a88e44bd-9f80-40e0-bef1-cb8b3b00cf27",
   "metadata": {},
   "source": [
    "### net return plots"
   ]
  },
  {
   "cell_type": "code",
   "execution_count": 23,
   "id": "84824fc3-7470-4a01-aa4f-de1fcf1a141d",
   "metadata": {},
   "outputs": [
    {
     "data": {
      "text/plain": [
       "<Axes: xlabel='Date'>"
      ]
     },
     "execution_count": 23,
     "metadata": {},
     "output_type": "execute_result"
    },
    {
     "data": {
      "image/png": "[encoded data removed]",
      "text/plain": [
       "<Figure size 640x480 with 1 Axes>"
      ]
     },
     "metadata": {},
     "output_type": "display_data"
    }
   ],
   "source": [
    "comb_ret_less_strat = (port_weights.shift() * ret).sum(axis=1)\n",
    "\n",
    "# turnover and net returns with commission of 0.0035 per share converted to dollar\n",
    "# in real world fractional share count as 1 share which are not yet incorporated\n",
    "# slippage not included\n",
    "port_tcost = strategy.tcost(port_weights, comm_bps_per_share=35, slippage_bps=0)\n",
    "port_net_return = (port_weights.shift() * ret).sum(axis=1) - port_tcost.sum(axis=1)\n",
    "sharpe_ratio(port_net_return)\n",
    "port_net_return.cumsum().plot()"
   ]
  },
  {
   "cell_type": "code",
   "execution_count": 25,
   "id": "b307e583-1b17-48b7-bcb6-12b643f48bb4",
   "metadata": {},
   "outputs": [],
   "source": [
    "\"\"\" Convex optimization with long short fully invested and dollar neutral constraints \"\"\"\n",
    "from Convex_opt import convex_optimization\n",
    "tc_penalty = 10 / 1000.\n",
    "port_weights_optimized = convex_opt.optimization_long_short_fully_invested_dollar_neutral(port_weights, comm_bps_per_share=35 * 1e-4, tc_penalty=tc_penalty)\n",
    "port_weights_optimized = pd.DataFrame(port_weights_optimized, index=port_weights.index)\n",
    "summary_stats = strategy.summary_stats(port_weights_optimized)\n"
   ]
  },
  {
   "cell_type": "code",
   "execution_count": 27,
   "id": "ecc1b1d2-a3b0-4250-ad88-b1d129df7b78",
   "metadata": {},
   "outputs": [
    {
     "data": {
      "text/plain": [
       "avg                    0.018501\n",
       "vol                    0.012732\n",
       "sharpe                 1.453062\n",
       "hit_rate               0.543966\n",
       "turnover               0.069538\n",
       "holding_period        28.761314\n",
       "max_drawdown          -0.012119\n",
       "max_duration         265.000000\n",
       "information_ratio      1.220770\n",
       "dtype: float64"
      ]
     },
     "execution_count": 27,
     "metadata": {},
     "output_type": "execute_result"
    }
   ],
   "source": [
    "summary_stats"
   ]
  },
  {
   "cell_type": "markdown",
   "id": "43969b67-433c-4c95-9c0e-cb84e8ffe727",
   "metadata": {},
   "source": [
    "### Dollar neutral and fully invested"
   ]
  },
  {
   "cell_type": "code",
   "execution_count": 29,
   "id": "d27b178c-5800-43ea-bab5-99b32bd3558b",
   "metadata": {},
   "outputs": [
    {
     "name": "stdout",
     "output_type": "stream",
     "text": [
      "0.00021737943197982457\n",
      "0.999356370868916\n"
     ]
    }
   ],
   "source": [
    "print(port_weights_optimized.sum(1).mean())\n",
    "print(port_weights_optimized.abs().sum(1).mean())"
   ]
  },
  {
   "cell_type": "code",
   "execution_count": 28,
   "id": "29fd27f5-32fd-409e-84d6-3c5af5160228",
   "metadata": {},
   "outputs": [
    {
     "data": {
      "text/plain": [
       "<Axes: xlabel='Date'>"
      ]
     },
     "execution_count": 28,
     "metadata": {},
     "output_type": "execute_result"
    },
    {
     "data": {
      "image/png": "[encoded data removed]",
      "text/plain": [
       "<Figure size 640x480 with 1 Axes>"
      ]
     },
     "metadata": {},
     "output_type": "display_data"
    }
   ],
   "source": [
    "port_weights_optimized_ret = (port_weights_optimized.shift() * ret).sum(1)\n",
    "port_weights_optimized_ret.cumsum().plot()"
   ]
  },
  {
   "cell_type": "code",
   "execution_count": null,
   "id": "2c00f35d-6b90-4693-92cf-806fb8910148",
   "metadata": {},
   "outputs": [],
   "source": []
  }
 ],
 "metadata": {
  "kernelspec": {
   "display_name": "Python 3 (ipykernel)",
   "language": "python",
   "name": "python3"
  },
  "language_info": {
   "codemirror_mode": {
    "name": "ipython",
    "version": 3
   },
   "file_extension": ".py",
   "mimetype": "text/x-python",
   "name": "python",
   "nbconvert_exporter": "python",
   "pygments_lexer": "ipython3",
   "version": "3.12.10"
  }
 },
 "nbformat": 4,
 "nbformat_minor": 5
}
